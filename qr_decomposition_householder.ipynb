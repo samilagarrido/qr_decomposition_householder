{
 "cells": [
  {
   "attachments": {},
   "cell_type": "markdown",
   "metadata": {},
   "source": [
    "Departamento de Computação Científica <br>\n",
    "Centro de Informática - UFPB<br>\n",
    "Algebra Linear Computacional<br>\n",
    "<br>"
   ]
  },
  {
   "attachments": {},
   "cell_type": "markdown",
   "metadata": {},
   "source": [
    "# Trabalho: Decomposição e Algoritmo QR\n"
   ]
  },
  {
   "attachments": {},
   "cell_type": "markdown",
   "metadata": {},
   "source": [
    "#### Resumo\n",
    "\n",
    "O objetivo desse trabalho é desenvolver os algoritmos para realizar o método de Gram-Schmidt, Gram-Schmidt modificado, Householder e, finalmente a decomposição QR, para solucionar as questões 1 e 2.\n",
    "\n",
    "Cada método terá sua respectiva função, visando a reutilização de código e organização."
   ]
  },
  {
   "attachments": {},
   "cell_type": "markdown",
   "metadata": {},
   "source": [
    "# Introdução"
   ]
  },
  {
   "attachments": {},
   "cell_type": "markdown",
   "metadata": {},
   "source": [
    "Considere, para todas as funções, A sendo uma matriz quadrada de ordem n. A precisão de ponto flutuante é de 6 casas decimais."
   ]
  },
  {
   "attachments": {},
   "cell_type": "markdown",
   "metadata": {},
   "source": [
    " A decomposição QR é uma decomposição de uma matriz A em um produto <b>A = QR</b> de uma matriz ortogonal Q e uma matriz triangular superior R. <br>\n",
    "A decomposição QR é usado frequentemente para resolver o problema de mínimos quadrados.\n"
   ]
  },
  {
   "attachments": {},
   "cell_type": "markdown",
   "metadata": {},
   "source": [
    "Foi utilizada a biblioteca <b>numpy</b>, já que fornecem um ótimo suporte para a manipulação de matrizes."
   ]
  },
  {
   "attachments": {},
   "cell_type": "markdown",
   "metadata": {},
   "source": [
    "### Decomposição QR com Gram-Schmidt"
   ]
  },
  {
   "attachments": {},
   "cell_type": "markdown",
   "metadata": {},
   "source": [
    "O Processo de Gram–Schmidt é um algoritmo para obter uma base ortogonal (ou ortonormal) a partir de uma base qualquer."
   ]
  },
  {
   "attachments": {},
   "cell_type": "markdown",
   "metadata": {},
   "source": [
    "A função <b>gram_schmidt_qr(A)</b> calcula a matriz ortogonal Q, resultado do método de Gram-Schmidt e popula a matriz triangular superior com os elementos gerados pelo produto interno entre a i-ésima coluna de Q e a j-ésima coluna de A."
   ]
  },
  {
   "cell_type": "code",
   "execution_count": 1,
   "metadata": {},
   "outputs": [],
   "source": [
    "import numpy as np"
   ]
  },
  {
   "cell_type": "code",
   "execution_count": 2,
   "metadata": {},
   "outputs": [],
   "source": [
    "def round_matrix(M, digits): # função para realizar a correção de ponto flutuante das matrizes\n",
    "    m, n = M.shape\n",
    "    \n",
    "    for i in range(m):\n",
    "        for j in range(n):\n",
    "            M[i][j] = round(M[i][j], digits)\n",
    "    "
   ]
  },
  {
   "cell_type": "code",
   "execution_count": 3,
   "metadata": {},
   "outputs": [],
   "source": [
    "\n",
    "def gram_schmidt_qr(A): \n",
    "    \n",
    "    det = round(np.linalg.det(np.dot(A, A)), 10) #verificação para matrizes LD\n",
    "    if abs(det) == 0: \n",
    "        print(\"A matriz não forma uma base\")\n",
    "        return None\n",
    "    \n",
    "    m, n = A.shape\n",
    "    Q = np.eye(n, dtype=float) #gera matriz identidade com shape de n\n",
    "    R = np.zeros((n, n), dtype=float)\n",
    "    for i in range(n): #subtrai a projeção e calcula o produto interno\n",
    "        v = A[:, i]\n",
    "        for j in range(i):\n",
    "            R[j, i] = np.dot(Q[:, j], A[:, i]) \n",
    "            v = v - R[j, i] * Q[:, j]\n",
    "        R[i, i] = np.linalg.norm(v) #normalização da coluna\n",
    "        Q[:, i] = v / R[i, i]\n",
    "    \n",
    "    round_matrix(Q, 6)\n",
    "    round_matrix(R, 6)\n",
    "\n",
    "    return Q, R"
   ]
  },
  {
   "attachments": {},
   "cell_type": "markdown",
   "metadata": {},
   "source": [
    "### Decomposição QR com Gram-Schmidt Modificado"
   ]
  },
  {
   "attachments": {},
   "cell_type": "markdown",
   "metadata": {},
   "source": [
    "O método de Gram-Schmidt modificado, proporciona uma melhor precisão numérica no caso de matrizes de grande porte. "
   ]
  },
  {
   "cell_type": "code",
   "execution_count": 4,
   "metadata": {},
   "outputs": [],
   "source": [
    "def gram_schmidt_qr_modificado(A): \n",
    "\n",
    "    det = round(np.linalg.det(np.dot(A, A)), 10) #verifica se a matriz de entrada é LD\n",
    "    \n",
    "    if abs(det) == 0: # se a entrada não for uma matriz LI, retorna\n",
    "        print(\"A matriz não forma uma base\")\n",
    "        return None\n",
    "    \n",
    "    m, n = A.shape\n",
    "    Q = np.zeros_like(A, dtype= float)\n",
    "    R = np.zeros((n, n), dtype= float)\n",
    "    for i in range(n): \n",
    "        v = A[:, i]\n",
    "        for j in range(i):\n",
    "            R[j, i] = np.dot(Q[:, j], A[:, i])\n",
    "            v = v - R[j, i] * Q[:, j]\n",
    "        R[i, i] = np.linalg.norm(v) #popula a diagonal principal de R\n",
    "        Q[:, i] = v / R[i, i]\n",
    "\n",
    "    round_matrix(Q, 6)\n",
    "    round_matrix(R, 6)\n",
    "\n",
    "    return Q, R"
   ]
  },
  {
   "attachments": {},
   "cell_type": "markdown",
   "metadata": {},
   "source": [
    "### Método de Householder"
   ]
  },
  {
   "attachments": {},
   "cell_type": "markdown",
   "metadata": {},
   "source": [
    "As transformações de Householder são amplamente utilizadas na álgebra linear numérica, para realizar decomposiçes QR e são o primeiro passo do algoritmo QR. Elas também são amplamente utilizadas para a tridiagonalização de matrizes simétricas e para a transformação de matrizes não-simétricas para a forma de Hessenberg.\n",
    "<br>\n",
    "Desse modo, esse método irá decompor a matriz A em uma ortogonal Q e uma triangular superior R - como os métodos que usam Gram-Schmidt. Porém este método proporciona uma maior estabilidade numérica e, portanto, uma precisão. \n"
   ]
  },
  {
   "cell_type": "code",
   "execution_count": 5,
   "metadata": {},
   "outputs": [],
   "source": [
    "def householder_qr(A):\n",
    "    m, n = A.shape\n",
    "    Q = np.eye(m, dtype = float)\n",
    "    R = A.copy()\n",
    "    \n",
    "    for i in range(m -1):\n",
    "        x = R[i:, i] # pega a primeira coluna para cada sub-matriz\n",
    "        e = np.zeros_like(x)\n",
    "        e[0] = np.linalg.norm(x)\n",
    "        u = x - e\n",
    "        u = u / np.linalg.norm(u)\n",
    "        \n",
    "        Q_i = np.identity(m - i) - 2 * (np.outer(u, u)) #calculo da reflexão de householder\n",
    "        Q_n = np.identity(m)\n",
    "\n",
    "        Q_n[i:, i:] = Q_i # calcula Q_n\n",
    "\n",
    "        R = np.dot(Q_n, R)\n",
    "        Q = np.dot(Q, Q_n)\n",
    "        \n",
    "    round_matrix(Q, 10)\n",
    "    round_matrix(R, 10)\n",
    "\n",
    "    return Q, R"
   ]
  },
  {
   "attachments": {},
   "cell_type": "markdown",
   "metadata": {},
   "source": [
    "### Algoritmo QR"
   ]
  },
  {
   "attachments": {},
   "cell_type": "markdown",
   "metadata": {},
   "source": [
    "A fatoração QR decompõe uma matriz A em uma matriz Q com colunas ortonormais e uma matriz R triangular superior. A deve ter colunas linearmente independentes. Caso A seja quadrada, então <b>Q^−1=Q^T</b>.\n",
    "<br>\n",
    "<br>\n",
    "Esse tipo de fatoração é especialmente útil para resolver o problema dos mínimos quadrados, assim como o algoritmo de SVD. O método das equações normais, da forma B=ATA, que usa a fatoração de Cholesky, pode ter κ(A)2. A intenção do algoritmo QR, então, é minimizar esse erro, obtendo κ(A).\n"
   ]
  },
  {
   "cell_type": "code",
   "execution_count": 6,
   "metadata": {},
   "outputs": [],
   "source": [
    "\n",
    "def algoritmo_qr(A, k):\n",
    "    '''\n",
    "    para construir a matriz Ak = RkQk\n",
    "    '''\n",
    "\n",
    "    n = A.shape[0]\n",
    "    for i in range(k):\n",
    "        Q, R = householder_qr(A)\n",
    "        A = np.dot(R, Q)\n",
    "    \n",
    "    for i in range(n):\n",
    "        for j in range(n):\n",
    "            A[i][j] = round(A[i][j], 6)\n",
    "    return A\n"
   ]
  },
  {
   "attachments": {},
   "cell_type": "markdown",
   "metadata": {},
   "source": [
    "# Resoluções"
   ]
  },
  {
   "attachments": {},
   "cell_type": "markdown",
   "metadata": {},
   "source": [
    "#### Questão 1"
   ]
  },
  {
   "cell_type": "code",
   "execution_count": 7,
   "metadata": {},
   "outputs": [],
   "source": [
    "# inicializando as matrizes necessárias\n",
    "A = np.array([[4, 0], [3, 1]], dtype= float)"
   ]
  },
  {
   "cell_type": "code",
   "execution_count": 8,
   "metadata": {},
   "outputs": [],
   "source": [
    "B = np.array([[1, 2], [1, 1]], dtype= float)"
   ]
  },
  {
   "cell_type": "code",
   "execution_count": 9,
   "metadata": {},
   "outputs": [],
   "source": [
    "C = np.array([[4, 8, 1], [0, 2, -2], [3, 6, 7]], dtype= float)"
   ]
  },
  {
   "cell_type": "code",
   "execution_count": 10,
   "metadata": {},
   "outputs": [],
   "source": [
    "D = np.array([[12, 10, 4], [10, 8, -5], [4, -5, 3]], dtype= float)"
   ]
  },
  {
   "cell_type": "code",
   "execution_count": 11,
   "metadata": {},
   "outputs": [],
   "source": [
    "E = np.array([[2, -1, -1], [-1, 2, -1], [-1, -1, 2]], dtype= float)"
   ]
  },
  {
   "cell_type": "code",
   "execution_count": 12,
   "metadata": {},
   "outputs": [],
   "source": [
    "F = np.array([[1, 1, 1], [1, 1, 0], [1, 0, 1]], dtype= float)"
   ]
  },
  {
   "cell_type": "code",
   "execution_count": 13,
   "metadata": {},
   "outputs": [],
   "source": [
    "G = np.array([[4.75, 2.25, -0.25], [2.25, 4.75, 1.25], [-0.25, 1.25, 4.75]], dtype= float)"
   ]
  },
  {
   "cell_type": "code",
   "execution_count": 14,
   "metadata": {},
   "outputs": [],
   "source": [
    "H = np.array([[4, -1, -1, 0], [-1, 4, 0, -1], [-1, 0, 4, -1], [0, -1, -1, 4]], dtype= float)"
   ]
  },
  {
   "attachments": {},
   "cell_type": "markdown",
   "metadata": {},
   "source": [
    "#### Letra A"
   ]
  },
  {
   "attachments": {},
   "cell_type": "markdown",
   "metadata": {},
   "source": [
    "Será o algoritmo de Gram-Schmidt aplicado as matrizes"
   ]
  },
  {
   "cell_type": "code",
   "execution_count": 15,
   "metadata": {},
   "outputs": [
    {
     "data": {
      "text/plain": [
       "(array([[ 0.8, -0.6],\n",
       "        [ 0.6,  0.8]]),\n",
       " array([[5. , 0.6],\n",
       "        [0. , 0.8]]))"
      ]
     },
     "execution_count": 15,
     "metadata": {},
     "output_type": "execute_result"
    }
   ],
   "source": [
    "gram_schmidt_qr(A)"
   ]
  },
  {
   "cell_type": "code",
   "execution_count": 16,
   "metadata": {},
   "outputs": [
    {
     "data": {
      "text/plain": [
       "(array([[ 0.707107,  0.707107],\n",
       "        [ 0.707107, -0.707107]]),\n",
       " array([[1.414214, 2.12132 ],\n",
       "        [0.      , 0.707107]]))"
      ]
     },
     "execution_count": 16,
     "metadata": {},
     "output_type": "execute_result"
    }
   ],
   "source": [
    "gram_schmidt_qr(B)"
   ]
  },
  {
   "cell_type": "code",
   "execution_count": 17,
   "metadata": {},
   "outputs": [
    {
     "data": {
      "text/plain": [
       "(array([[ 0.8,  0. , -0.6],\n",
       "        [ 0. ,  1. ,  0. ],\n",
       "        [ 0.6,  0. ,  0.8]]),\n",
       " array([[ 5., 10.,  5.],\n",
       "        [ 0.,  2., -2.],\n",
       "        [ 0.,  0.,  5.]]))"
      ]
     },
     "execution_count": 17,
     "metadata": {},
     "output_type": "execute_result"
    }
   ],
   "source": [
    "gram_schmidt_qr(C)"
   ]
  },
  {
   "cell_type": "code",
   "execution_count": 18,
   "metadata": {},
   "outputs": [
    {
     "data": {
      "text/plain": [
       "(array([[ 0.744208,  0.210906,  0.633776],\n",
       "        [ 0.620174,  0.134213, -0.772898],\n",
       "        [ 0.248069, -0.968249,  0.030916]]),\n",
       " array([[16.124515, 11.163126,  0.620174],\n",
       "        [ 0.      ,  8.024002, -2.732187],\n",
       "        [ 0.      ,  0.      ,  6.492345]]))"
      ]
     },
     "execution_count": 18,
     "metadata": {},
     "output_type": "execute_result"
    }
   ],
   "source": [
    "gram_schmidt_qr(D)"
   ]
  },
  {
   "cell_type": "code",
   "execution_count": 19,
   "metadata": {},
   "outputs": [
    {
     "name": "stdout",
     "output_type": "stream",
     "text": [
      "A matriz não forma uma base\n"
     ]
    }
   ],
   "source": [
    "gram_schmidt_qr(E)"
   ]
  },
  {
   "cell_type": "code",
   "execution_count": 20,
   "metadata": {},
   "outputs": [
    {
     "data": {
      "text/plain": [
       "(array([[ 0.57735 ,  0.408248,  0.707107],\n",
       "        [ 0.57735 ,  0.408248, -0.707107],\n",
       "        [ 0.57735 , -0.816497, -0.      ]]),\n",
       " array([[ 1.732051,  1.154701,  1.154701],\n",
       "        [ 0.      ,  0.816497, -0.408248],\n",
       "        [ 0.      ,  0.      ,  0.707107]]))"
      ]
     },
     "execution_count": 20,
     "metadata": {},
     "output_type": "execute_result"
    }
   ],
   "source": [
    "gram_schmidt_qr(F)"
   ]
  },
  {
   "cell_type": "code",
   "execution_count": 21,
   "metadata": {},
   "outputs": [
    {
     "data": {
      "text/plain": [
       "(array([[ 0.902717, -0.375774,  0.209513],\n",
       "        [ 0.427603,  0.837403, -0.340459],\n",
       "        [-0.047511,  0.396926,  0.91662 ]]),\n",
       " array([[5.261891, 4.002838, 0.083145],\n",
       "        [0.      , 3.628331, 3.026098],\n",
       "        [0.      , 0.      , 3.875993]]))"
      ]
     },
     "execution_count": 21,
     "metadata": {},
     "output_type": "execute_result"
    }
   ],
   "source": [
    "gram_schmidt_qr(G)"
   ]
  },
  {
   "cell_type": "code",
   "execution_count": 22,
   "metadata": {},
   "outputs": [
    {
     "data": {
      "text/plain": [
       "(array([[ 0.942809,  0.204647,  0.228012,  0.131306],\n",
       "        [-0.235702,  0.935529, -0.016287,  0.262613],\n",
       "        [-0.235702, -0.116941,  0.928334,  0.262613],\n",
       "        [ 0.      , -0.263117, -0.293158,  0.919145]]),\n",
       " array([[ 4.242641, -1.885618, -1.885618,  0.471405],\n",
       "        [ 0.      ,  3.800585, -0.409294, -1.871057],\n",
       "        [ 0.      ,  0.      ,  3.778482, -2.084679],\n",
       "        [ 0.      ,  0.      ,  0.      ,  3.151354]]))"
      ]
     },
     "execution_count": 22,
     "metadata": {},
     "output_type": "execute_result"
    }
   ],
   "source": [
    "gram_schmidt_qr(H)"
   ]
  },
  {
   "attachments": {},
   "cell_type": "markdown",
   "metadata": {},
   "source": [
    "#### Letra B"
   ]
  },
  {
   "attachments": {},
   "cell_type": "markdown",
   "metadata": {},
   "source": [
    "Será o algoritmo de Gram-Schmidt Modificado aplicado as matrizes"
   ]
  },
  {
   "cell_type": "code",
   "execution_count": 23,
   "metadata": {},
   "outputs": [
    {
     "data": {
      "text/plain": [
       "(array([[ 0.8, -0.6],\n",
       "        [ 0.6,  0.8]]),\n",
       " array([[5. , 0.6],\n",
       "        [0. , 0.8]]))"
      ]
     },
     "execution_count": 23,
     "metadata": {},
     "output_type": "execute_result"
    }
   ],
   "source": [
    "gram_schmidt_qr_modificado(A)"
   ]
  },
  {
   "cell_type": "code",
   "execution_count": 24,
   "metadata": {},
   "outputs": [
    {
     "data": {
      "text/plain": [
       "(array([[ 0.707107,  0.707107],\n",
       "        [ 0.707107, -0.707107]]),\n",
       " array([[1.414214, 2.12132 ],\n",
       "        [0.      , 0.707107]]))"
      ]
     },
     "execution_count": 24,
     "metadata": {},
     "output_type": "execute_result"
    }
   ],
   "source": [
    "gram_schmidt_qr_modificado(B)"
   ]
  },
  {
   "cell_type": "code",
   "execution_count": 25,
   "metadata": {},
   "outputs": [
    {
     "data": {
      "text/plain": [
       "(array([[ 0.8,  0. , -0.6],\n",
       "        [ 0. ,  1. ,  0. ],\n",
       "        [ 0.6,  0. ,  0.8]]),\n",
       " array([[ 5., 10.,  5.],\n",
       "        [ 0.,  2., -2.],\n",
       "        [ 0.,  0.,  5.]]))"
      ]
     },
     "execution_count": 25,
     "metadata": {},
     "output_type": "execute_result"
    }
   ],
   "source": [
    "gram_schmidt_qr_modificado(C)"
   ]
  },
  {
   "cell_type": "code",
   "execution_count": 26,
   "metadata": {},
   "outputs": [
    {
     "data": {
      "text/plain": [
       "(array([[ 0.744208,  0.210906,  0.633776],\n",
       "        [ 0.620174,  0.134213, -0.772898],\n",
       "        [ 0.248069, -0.968249,  0.030916]]),\n",
       " array([[16.124515, 11.163126,  0.620174],\n",
       "        [ 0.      ,  8.024002, -2.732187],\n",
       "        [ 0.      ,  0.      ,  6.492345]]))"
      ]
     },
     "execution_count": 26,
     "metadata": {},
     "output_type": "execute_result"
    }
   ],
   "source": [
    "gram_schmidt_qr_modificado(D)"
   ]
  },
  {
   "cell_type": "code",
   "execution_count": 27,
   "metadata": {},
   "outputs": [
    {
     "name": "stdout",
     "output_type": "stream",
     "text": [
      "A matriz não forma uma base\n"
     ]
    }
   ],
   "source": [
    "gram_schmidt_qr_modificado(E)"
   ]
  },
  {
   "cell_type": "code",
   "execution_count": 28,
   "metadata": {},
   "outputs": [
    {
     "data": {
      "text/plain": [
       "(array([[ 0.57735 ,  0.408248,  0.707107],\n",
       "        [ 0.57735 ,  0.408248, -0.707107],\n",
       "        [ 0.57735 , -0.816497, -0.      ]]),\n",
       " array([[ 1.732051,  1.154701,  1.154701],\n",
       "        [ 0.      ,  0.816497, -0.408248],\n",
       "        [ 0.      ,  0.      ,  0.707107]]))"
      ]
     },
     "execution_count": 28,
     "metadata": {},
     "output_type": "execute_result"
    }
   ],
   "source": [
    "gram_schmidt_qr_modificado(F)"
   ]
  },
  {
   "cell_type": "code",
   "execution_count": 29,
   "metadata": {},
   "outputs": [
    {
     "data": {
      "text/plain": [
       "(array([[ 0.902717, -0.375774,  0.209513],\n",
       "        [ 0.427603,  0.837403, -0.340459],\n",
       "        [-0.047511,  0.396926,  0.91662 ]]),\n",
       " array([[5.261891, 4.002838, 0.083145],\n",
       "        [0.      , 3.628331, 3.026098],\n",
       "        [0.      , 0.      , 3.875993]]))"
      ]
     },
     "execution_count": 29,
     "metadata": {},
     "output_type": "execute_result"
    }
   ],
   "source": [
    "gram_schmidt_qr_modificado(G)"
   ]
  },
  {
   "cell_type": "code",
   "execution_count": 30,
   "metadata": {},
   "outputs": [
    {
     "data": {
      "text/plain": [
       "(array([[ 0.942809,  0.204647,  0.228012,  0.131306],\n",
       "        [-0.235702,  0.935529, -0.016287,  0.262613],\n",
       "        [-0.235702, -0.116941,  0.928334,  0.262613],\n",
       "        [ 0.      , -0.263117, -0.293158,  0.919145]]),\n",
       " array([[ 4.242641, -1.885618, -1.885618,  0.471405],\n",
       "        [ 0.      ,  3.800585, -0.409294, -1.871057],\n",
       "        [ 0.      ,  0.      ,  3.778482, -2.084679],\n",
       "        [ 0.      ,  0.      ,  0.      ,  3.151354]]))"
      ]
     },
     "execution_count": 30,
     "metadata": {},
     "output_type": "execute_result"
    }
   ],
   "source": [
    "gram_schmidt_qr_modificado(H)"
   ]
  },
  {
   "attachments": {},
   "cell_type": "markdown",
   "metadata": {},
   "source": [
    "#### Letra C"
   ]
  },
  {
   "attachments": {},
   "cell_type": "markdown",
   "metadata": {},
   "source": [
    "Será o algoritmo de Holseholder aplicado as matrizes"
   ]
  },
  {
   "cell_type": "code",
   "execution_count": 31,
   "metadata": {},
   "outputs": [
    {
     "data": {
      "text/plain": [
       "(array([[ 0.8,  0.6],\n",
       "        [ 0.6, -0.8]]),\n",
       " array([[ 5. ,  0.6],\n",
       "        [ 0. , -0.8]]))"
      ]
     },
     "execution_count": 31,
     "metadata": {},
     "output_type": "execute_result"
    }
   ],
   "source": [
    "householder_qr(A)"
   ]
  },
  {
   "cell_type": "code",
   "execution_count": 32,
   "metadata": {},
   "outputs": [
    {
     "data": {
      "text/plain": [
       "(array([[ 0.70710678,  0.70710678],\n",
       "        [ 0.70710678, -0.70710678]]),\n",
       " array([[1.41421356, 2.12132034],\n",
       "        [0.        , 0.70710678]]))"
      ]
     },
     "execution_count": 32,
     "metadata": {},
     "output_type": "execute_result"
    }
   ],
   "source": [
    "householder_qr(B)"
   ]
  },
  {
   "cell_type": "code",
   "execution_count": 33,
   "metadata": {},
   "outputs": [
    {
     "data": {
      "text/plain": [
       "(array([[ 0.8,  0. , -0.6],\n",
       "        [ 0. ,  1. ,  0. ],\n",
       "        [ 0.6,  0. ,  0.8]]),\n",
       " array([[ 5., 10.,  5.],\n",
       "        [ 0.,  2., -2.],\n",
       "        [-0., -0.,  5.]]))"
      ]
     },
     "execution_count": 33,
     "metadata": {},
     "output_type": "execute_result"
    }
   ],
   "source": [
    "householder_qr(C)"
   ]
  },
  {
   "cell_type": "code",
   "execution_count": 34,
   "metadata": {},
   "outputs": [
    {
     "data": {
      "text/plain": [
       "(array([[ 0.74420841,  0.21090568, -0.63377649],\n",
       "        [ 0.62017367,  0.13421271,  0.77289816],\n",
       "        [ 0.24806947, -0.9682488 , -0.03091593]]),\n",
       " array([[16.1245155 , 11.16312611,  0.62017367],\n",
       "        [-0.        ,  8.02400245, -2.73218722],\n",
       "        [ 0.        , -0.        , -6.49234454]]))"
      ]
     },
     "execution_count": 34,
     "metadata": {},
     "output_type": "execute_result"
    }
   ],
   "source": [
    "householder_qr(D)"
   ]
  },
  {
   "cell_type": "code",
   "execution_count": 35,
   "metadata": {},
   "outputs": [
    {
     "data": {
      "text/plain": [
       "(array([[ 0.81649658, -0.        ,  0.57735027],\n",
       "        [-0.40824829,  0.70710678,  0.57735027],\n",
       "        [-0.40824829, -0.70710678,  0.57735027]]),\n",
       " array([[ 2.44948974, -1.22474487, -1.22474487],\n",
       "        [-0.        ,  2.12132034, -2.12132034],\n",
       "        [-0.        , -0.        ,  0.        ]]))"
      ]
     },
     "execution_count": 35,
     "metadata": {},
     "output_type": "execute_result"
    }
   ],
   "source": [
    "householder_qr(E)"
   ]
  },
  {
   "cell_type": "code",
   "execution_count": 36,
   "metadata": {},
   "outputs": [
    {
     "data": {
      "text/plain": [
       "(array([[ 0.57735027,  0.40824829, -0.70710678],\n",
       "        [ 0.57735027,  0.40824829,  0.70710678],\n",
       "        [ 0.57735027, -0.81649658,  0.        ]]),\n",
       " array([[ 1.73205081,  1.15470054,  1.15470054],\n",
       "        [-0.        ,  0.81649658, -0.40824829],\n",
       "        [ 0.        ,  0.        , -0.70710678]]))"
      ]
     },
     "execution_count": 36,
     "metadata": {},
     "output_type": "execute_result"
    }
   ],
   "source": [
    "householder_qr(F)"
   ]
  },
  {
   "cell_type": "code",
   "execution_count": 37,
   "metadata": {},
   "outputs": [
    {
     "data": {
      "text/plain": [
       "(array([[ 0.90271724, -0.37577365,  0.20951312],\n",
       "        [ 0.4276029 ,  0.83740286, -0.34045882],\n",
       "        [-0.04751143,  0.39692647,  0.9166199 ]]),\n",
       " array([[ 5.26189129,  4.0028383 ,  0.08314501],\n",
       "        [ 0.        ,  3.62833096,  3.0260977 ],\n",
       "        [-0.        ,  0.        ,  3.87599273]]))"
      ]
     },
     "execution_count": 37,
     "metadata": {},
     "output_type": "execute_result"
    }
   ],
   "source": [
    "householder_qr(G)"
   ]
  },
  {
   "cell_type": "code",
   "execution_count": 38,
   "metadata": {},
   "outputs": [
    {
     "data": {
      "text/plain": [
       "(array([[ 0.94280904,  0.20464687,  0.22801182, -0.13130643],\n",
       "        [-0.23570226,  0.93552855, -0.01628656, -0.26261287],\n",
       "        [-0.23570226, -0.11694107,  0.92833384, -0.26261287],\n",
       "        [ 0.        , -0.26311741, -0.29315805, -0.91914503]]),\n",
       " array([[ 4.24264069, -1.88561808, -1.88561808,  0.47140452],\n",
       "        [-0.        ,  3.80058475, -0.40929374, -1.87105711],\n",
       "        [-0.        ,  0.        ,  3.77848158, -2.08467949],\n",
       "        [ 0.        ,  0.        ,  0.        , -3.15135439]]))"
      ]
     },
     "execution_count": 38,
     "metadata": {},
     "output_type": "execute_result"
    }
   ],
   "source": [
    "householder_qr(H)"
   ]
  },
  {
   "attachments": {},
   "cell_type": "markdown",
   "metadata": {},
   "source": [
    "# Questão 2"
   ]
  },
  {
   "cell_type": "code",
   "execution_count": 39,
   "metadata": {},
   "outputs": [],
   "source": [
    "# inicialiando novas matrizes\n",
    "\n",
    "A = np.array([[2, -1, 0], [-1, 2, -1], [0, -1, 2]], dtype= float)\n",
    "B = np.array([[3, 1, 0], [1, 4, 2], [0, 2, 1]], dtype= float)\n",
    "C = np.array([[4, -1, 0], [-1, 3, -1], [0, -1, 2]], dtype= float) \n",
    "D = np.array([[1, 1, 0, 0], [1, 2, -1, 0], [0, -1, 3, 1], [0, 0, 1, 4]], dtype= float)\n",
    "E = np.array([[-2, 1, 0, 0], [1, -3, -1, 0], [0, -1, 1, 1], [0, 0, 1, 3]], dtype= float)"
   ]
  },
  {
   "attachments": {},
   "cell_type": "markdown",
   "metadata": {},
   "source": [
    "Será aplicado o Algoritmo QR as matrizes"
   ]
  },
  {
   "cell_type": "code",
   "execution_count": 40,
   "metadata": {},
   "outputs": [
    {
     "data": {
      "text/plain": [
       "array([[ 3.308411, -0.372193,  0.      ],\n",
       "       [-0.372193,  2.103947, -0.052177],\n",
       "       [ 0.      , -0.052177,  0.587642]])"
      ]
     },
     "execution_count": 40,
     "metadata": {},
     "output_type": "execute_result"
    }
   ],
   "source": [
    "algoritmo_qr(A, 3)"
   ]
  },
  {
   "cell_type": "code",
   "execution_count": 41,
   "metadata": {},
   "outputs": [
    {
     "data": {
      "text/plain": [
       "array([[ 5.079670e+00,  7.930600e-01,  0.000000e+00],\n",
       "       [ 7.930600e-01,  2.989038e+00, -1.600000e-05],\n",
       "       [ 0.000000e+00, -1.600000e-05, -6.870800e-02]])"
      ]
     },
     "execution_count": 41,
     "metadata": {},
     "output_type": "execute_result"
    }
   ],
   "source": [
    "algoritmo_qr(B, 3)"
   ]
  },
  {
   "cell_type": "code",
   "execution_count": 42,
   "metadata": {},
   "outputs": [
    {
     "data": {
      "text/plain": [
       "array([[ 4.673724, -0.312694, -0.      ],\n",
       "       [-0.312694,  3.052961, -0.097082],\n",
       "       [ 0.      , -0.097082,  1.273316]])"
      ]
     },
     "execution_count": 42,
     "metadata": {},
     "output_type": "execute_result"
    }
   ],
   "source": [
    "algoritmo_qr(C, 3)"
   ]
  },
  {
   "cell_type": "code",
   "execution_count": 43,
   "metadata": {},
   "outputs": [
    {
     "data": {
      "text/plain": [
       "array([[ 3.559441,  0.874042,  0.      ,  0.      ],\n",
       "       [ 0.874042,  3.656601, -0.992478, -0.      ],\n",
       "       [ 0.      , -0.992478,  2.528909, -0.025503],\n",
       "       [ 0.      ,  0.      , -0.025503,  0.25505 ]])"
      ]
     },
     "execution_count": 43,
     "metadata": {},
     "output_type": "execute_result"
    }
   ],
   "source": [
    "algoritmo_qr(D, 3)"
   ]
  },
  {
   "cell_type": "code",
   "execution_count": 44,
   "metadata": {},
   "outputs": [
    {
     "data": {
      "text/plain": [
       "array([[-3.74817 ,  0.28296 , -0.      , -0.      ],\n",
       "       [ 0.28296 , -0.442379, -2.038983, -0.      ],\n",
       "       [ 0.      , -2.038983,  2.361207, -0.093222],\n",
       "       [ 0.      ,  0.      , -0.093222,  0.829342]])"
      ]
     },
     "execution_count": 44,
     "metadata": {},
     "output_type": "execute_result"
    }
   ],
   "source": [
    "algoritmo_qr(E, 3)"
   ]
  }
 ],
 "metadata": {
  "kernelspec": {
   "display_name": "Python 3.10.5 64-bit",
   "language": "python",
   "name": "python3"
  },
  "language_info": {
   "codemirror_mode": {
    "name": "ipython",
    "version": 3
   },
   "file_extension": ".py",
   "mimetype": "text/x-python",
   "name": "python",
   "nbconvert_exporter": "python",
   "pygments_lexer": "ipython3",
   "version": "3.10.5"
  },
  "orig_nbformat": 4,
  "vscode": {
   "interpreter": {
    "hash": "e5de687a319125f77bb1765df3d53825fd7f6d7d71a961559c78e35c42b2ccb6"
   }
  }
 },
 "nbformat": 4,
 "nbformat_minor": 2
}
